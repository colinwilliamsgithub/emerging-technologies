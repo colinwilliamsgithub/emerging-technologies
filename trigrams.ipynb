{
 "cells": [
  {
   "cell_type": "markdown",
   "id": "0e102be2-079b-48c9-a44c-c43644d0ad79",
   "metadata": {},
   "source": [
    "<h1>Task 1: Third-order letter approximation model</h1>\n",
    "\n",
    "For Task 1, I am tasked to select five free English works from Project Gutenberg. I then have to preprocess these texts by removing any preamble and postamble, and removing all characters except for ASCII letters, full stops, and spaces. Finally, I then have to make all letters uppercase."
   ]
  },
  {
   "cell_type": "markdown",
   "id": "aa5fa431-bbde-48e9-ba1b-ef8e984f8f6e",
   "metadata": {},
   "source": [
    "When I have preprocessed all the texts, I then have to create a trigram model by counting the number of times each trigram (a sequence of three characters) appears. For example, \"It is what it is.\" would become \"IT IS WHAT IT IS\" when processed. This will then give a trigram model like {'IT ': 2, 'T I': 3, ' IS': 2, 'IS ': 1, 'S W': 1, ' WH': 1, 'WHA': 1, 'HAT': 1, 'AT ': 1}"
   ]
  },
  {
   "cell_type": "code",
   "execution_count": 18,
   "id": "46d72bd2-8818-4a11-a44f-f9837ada559c",
   "metadata": {},
   "outputs": [],
   "source": [
    "import os\n",
    "import re"
   ]
  },
  {
   "cell_type": "markdown",
   "id": "6674c2d7-03a0-40be-8315-2e1ca4625e44",
   "metadata": {},
   "source": [
    "Initialises the directory, inistialises the dictionaries and reads each text file.\n",
    "\n",
    "- The texts dictionary stores the texts.\n",
    "- The trigram_counts dictionary stores trigrams and their counts.\n",
    "- The combined_trigrams stores the combined trigrams and their counts."
   ]
  },
  {
   "cell_type": "code",
   "execution_count": 19,
   "id": "188703a6-bed0-4226-9512-7bf330e02e85",
   "metadata": {},
   "outputs": [],
   "source": [
    "# Directory containing the text files\n",
    "directory = \"texts\"\n",
    "\n",
    "texts = {}\n",
    "# Initialize an empty dictionary for storing trigrams and their counts\n",
    "trigram_counts = {}\n",
    "# Initialize a dictionary to store combined trigram counts\n",
    "combined_trigrams = {}\n",
    "\n",
    "# Load each text file into a dictionary\n",
    "for filename in os.listdir(directory):\n",
    "    if filename.endswith(\".txt\"):\n",
    "        with open(os.path.join(directory, filename), \"r\", encoding=\"utf-8\") as file:\n",
    "            texts[filename] = file.read()"
   ]
  },
  {
   "cell_type": "markdown",
   "id": "e4fb5a00-238d-480f-a308-0daf2ed19360",
   "metadata": {},
   "source": [
    "<h2>Prepare Text</h2>\n",
    "The first step in preparing the texts is to remove any preamble and postamble. Project Gutenburg texts often have a preamble that ends with \"*** START OF THE PROJECT GUTENBERG EBOOK (EBOOK NAME) ***\", and a postamble that starts with \"*** END OF THE PROJECT GUTENBERG EBOOK (EBOOK NAME) ***\". This can be removed by setting markers, in this case \"*** START\" and \"*** END\". The function then searches for where these markers first occur in the text. If both markers are found, the function extracts the portion of the text between these markers."
   ]
  },
  {
   "cell_type": "markdown",
   "id": "d1f684bf-ea02-4532-849f-abf22bc681f8",
   "metadata": {},
   "source": [
    "The next step is to remove all characters except letters, full stops and spaces from the text. To do this, the function uses the re.sub() method. This is used to replace unwanted characters in the text. Any character that is not a letter, a full stop or a space is replaced with an empty string, effectively removing them. The text is now cleaned, leaving only letters, full stops and spaces."
   ]
  },
  {
   "cell_type": "markdown",
   "id": "d9dd1757-51e9-4e1c-8b38-43755bd42e06",
   "metadata": {},
   "source": [
    "Finally, I have to convert all the characters to uppercase. This is done by using the .upper() method, which transforms all the letters to uppercase.\n",
    "The .strip() method is also used to remove any leading or trailing whitespace from the text."
   ]
  },
  {
   "cell_type": "code",
   "execution_count": 20,
   "id": "979ac4cf-594f-49a1-965c-18ba1cd7901c",
   "metadata": {},
   "outputs": [],
   "source": [
    "def prepare_text(text):\n",
    "    # Remove preamble and postamble from the text\n",
    "    preamble = text.find(\"*** START\")\n",
    "    postamble = text.find(\"*** END\")\n",
    "    if preamble != -1 and postamble != -1:\n",
    "        text = text[preamble:postamble]\n",
    "    \n",
    "    # Remove all characters except letters, full stops and spaces\n",
    "    prepared_text = re.sub(r\"[^A-Za-z. ]\", \"\", text)\n",
    "    \n",
    "    return prepared_text.upper().strip()"
   ]
  },
  {
   "cell_type": "markdown",
   "id": "529ff1a7-b25b-485e-b7d0-e5c6461e90fd",
   "metadata": {},
   "source": [
    "<h2>Build Trigram Model</h2>\n",
    "The next step is to build a trigram model by counting the number of times each sequence of three characters trigram appears.\n",
    "\n",
    "- for i in range(len(prepared_text) - 2):<br>\n",
    "First, it iterates through the text to extract all possible trigrams.\n",
    "\n",
    "- trigram = prepared_text[i:i + 3]:<br>\n",
    "Then, we have to slice the text to extract a substring of 3 characters.\n",
    "\n",
    "- if trigram in trigram_counts:\n",
    "    trigram_counts[trigram] += 1\n",
    "else:\n",
    "    trigram_counts[trigram] = 1\n",
    "\n",
    "This checks if the trigram is in trigram_counts. If it is, then increase the count by 1. If it's not, then initialise it's count to 1."
   ]
  },
  {
   "cell_type": "code",
   "execution_count": 21,
   "id": "980d9bd5-e52c-4617-b356-7c855a1bf5a3",
   "metadata": {},
   "outputs": [],
   "source": [
    "def build_trigram_model(prepared_text):\n",
    "    # Traverse the text to extract trigrams\n",
    "    for i in range(len(prepared_text) - 2):\n",
    "        # Extract a trigram\n",
    "        trigram = prepared_text[i:i + 3]\n",
    "        \n",
    "        # Increment the count of the trigram in the dictionary\n",
    "        if trigram in trigram_counts:\n",
    "            trigram_counts[trigram] += 1\n",
    "        else:\n",
    "            trigram_counts[trigram] = 1\n",
    "    \n",
    "    return trigram_counts"
   ]
  },
  {
   "cell_type": "markdown",
   "id": "d0f36e61-384c-4483-b56a-71f264d39bc1",
   "metadata": {},
   "source": [
    "Now we have to read all the text files, prepare them and get the trigram counts. They are then merged into the combined_trigrams dictionary."
   ]
  },
  {
   "cell_type": "code",
   "execution_count": 22,
   "id": "0dca8a9b-7f65-4f5e-bbe5-e28373c60848",
   "metadata": {},
   "outputs": [],
   "source": [
    "# Process each text file\n",
    "for filename in os.listdir(directory):\n",
    "    if filename.endswith(\".txt\"):\n",
    "        with open(os.path.join(directory, filename), \"r\", encoding=\"utf-8\") as file:\n",
    "            content = file.read()\n",
    "        \n",
    "        # Prepare the text\n",
    "        prepared_text = prepare_text(content)\n",
    "        \n",
    "        # Generate the trigram model\n",
    "        trigram_model = build_trigram_model(prepared_text)\n",
    "        \n",
    "        # Merge the current file's trigram counts into the combined dictionary\n",
    "        for trigram, count in trigram_model.items():\n",
    "            if trigram in combined_trigrams:\n",
    "                combined_trigrams[trigram] += count\n",
    "            else:\n",
    "                combined_trigrams[trigram] = count"
   ]
  },
  {
   "cell_type": "markdown",
   "id": "19c5597f-f0f9-43cb-8494-13485be98895",
   "metadata": {},
   "source": [
    "The combined trigram counts are then displayed in trigram.txt"
   ]
  },
  {
   "cell_type": "code",
   "execution_count": 23,
   "id": "1eb74b42-af11-42cb-8f57-7185a69ed3c9",
   "metadata": {},
   "outputs": [],
   "source": [
    "# Write the combined trigram counts to a single text file\n",
    "output_file = \"trigrams.txt\"\n",
    "with open(output_file, \"w\", encoding=\"utf-8\") as file:\n",
    "    for trigram, count in sorted(combined_trigrams.items()):\n",
    "        file.write(f\"{trigram}: {count}\\n\")"
   ]
  }
 ],
 "metadata": {
  "kernelspec": {
   "display_name": "Python 3 (ipykernel)",
   "language": "python",
   "name": "python3"
  },
  "language_info": {
   "codemirror_mode": {
    "name": "ipython",
    "version": 3
   },
   "file_extension": ".py",
   "mimetype": "text/x-python",
   "name": "python",
   "nbconvert_exporter": "python",
   "pygments_lexer": "ipython3",
   "version": "3.12.2"
  }
 },
 "nbformat": 4,
 "nbformat_minor": 5
}
